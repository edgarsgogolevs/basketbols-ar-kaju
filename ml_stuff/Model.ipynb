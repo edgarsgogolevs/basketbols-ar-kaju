{
 "cells": [
  {
   "cell_type": "code",
   "execution_count": 2,
   "metadata": {},
   "outputs": [],
   "source": [
    "# Import libraries\n",
    "import pandas as pd\n",
    "import xgboost as xgb\n",
    "from sklearn.svm import SVC\n",
    "from sklearn.metrics import accuracy_score\n",
    "from sklearn.linear_model import LogisticRegression\n",
    "from sklearn.ensemble import RandomForestClassifier\n",
    "from sklearn.model_selection import train_test_split\n",
    "from nba_api.stats.endpoints import leaguegamefinder"
   ]
  },
  {
   "cell_type": "code",
   "execution_count": 4,
   "metadata": {},
   "outputs": [],
   "source": [
    "# Get NBA dataframe from LeagueGameFinder library\n",
    "lgf = leaguegamefinder.LeagueGameFinder(date_from_nullable='01/31/2020' , league_id_nullable='00')\n",
    "games = lgf.get_data_frames()[0]\n",
    "# Select requite columns\n",
    "games = games[['TEAM_NAME', 'GAME_ID','GAME_DATE', 'MATCHUP', 'WL' ,'PLUS_MINUS' ]]"
   ]
  },
  {
   "cell_type": "code",
   "execution_count": 5,
   "metadata": {},
   "outputs": [],
   "source": [
    "# Cast and sort by GAME_DATE to date type\n",
    "games['GAME_DATE'] = pd.to_datetime(games['GAME_DATE'])\n",
    "games = games.sort_values('GAME_DATE')"
   ]
  },
  {
   "cell_type": "code",
   "execution_count": 6,
   "metadata": {},
   "outputs": [
    {
     "data": {
      "text/html": [
       "<div>\n",
       "<style scoped>\n",
       "    .dataframe tbody tr th:only-of-type {\n",
       "        vertical-align: middle;\n",
       "    }\n",
       "\n",
       "    .dataframe tbody tr th {\n",
       "        vertical-align: top;\n",
       "    }\n",
       "\n",
       "    .dataframe thead th {\n",
       "        text-align: right;\n",
       "    }\n",
       "</style>\n",
       "<table border=\"1\" class=\"dataframe\">\n",
       "  <thead>\n",
       "    <tr style=\"text-align: right;\">\n",
       "      <th></th>\n",
       "      <th>TEAM_NAME</th>\n",
       "      <th>GAME_ID</th>\n",
       "      <th>GAME_DATE</th>\n",
       "      <th>MATCHUP</th>\n",
       "      <th>WL</th>\n",
       "      <th>PLUS_MINUS</th>\n",
       "    </tr>\n",
       "  </thead>\n",
       "  <tbody>\n",
       "    <tr>\n",
       "      <th>9422</th>\n",
       "      <td>Detroit Pistons</td>\n",
       "      <td>0021900720</td>\n",
       "      <td>2020-01-31</td>\n",
       "      <td>DET vs. TOR</td>\n",
       "      <td>L</td>\n",
       "      <td>-13.0</td>\n",
       "    </tr>\n",
       "    <tr>\n",
       "      <th>9409</th>\n",
       "      <td>New Orleans Pelicans</td>\n",
       "      <td>0021900723</td>\n",
       "      <td>2020-01-31</td>\n",
       "      <td>NOP vs. MEM</td>\n",
       "      <td>W</td>\n",
       "      <td>28.0</td>\n",
       "    </tr>\n",
       "    <tr>\n",
       "      <th>9410</th>\n",
       "      <td>Milwaukee Bucks</td>\n",
       "      <td>0021900724</td>\n",
       "      <td>2020-01-31</td>\n",
       "      <td>MIL vs. DEN</td>\n",
       "      <td>L</td>\n",
       "      <td>-12.0</td>\n",
       "    </tr>\n",
       "    <tr>\n",
       "      <th>9411</th>\n",
       "      <td>Dallas Mavericks</td>\n",
       "      <td>0021900722</td>\n",
       "      <td>2020-01-31</td>\n",
       "      <td>DAL @ HOU</td>\n",
       "      <td>L</td>\n",
       "      <td>-7.0</td>\n",
       "    </tr>\n",
       "    <tr>\n",
       "      <th>9412</th>\n",
       "      <td>Toronto Raptors</td>\n",
       "      <td>0021900720</td>\n",
       "      <td>2020-01-31</td>\n",
       "      <td>TOR @ DET</td>\n",
       "      <td>W</td>\n",
       "      <td>13.0</td>\n",
       "    </tr>\n",
       "    <tr>\n",
       "      <th>...</th>\n",
       "      <td>...</td>\n",
       "      <td>...</td>\n",
       "      <td>...</td>\n",
       "      <td>...</td>\n",
       "      <td>...</td>\n",
       "      <td>...</td>\n",
       "    </tr>\n",
       "    <tr>\n",
       "      <th>11</th>\n",
       "      <td>Sacramento Kings</td>\n",
       "      <td>0022300198</td>\n",
       "      <td>2023-11-15</td>\n",
       "      <td>SAC @ LAL</td>\n",
       "      <td>W</td>\n",
       "      <td>15.0</td>\n",
       "    </tr>\n",
       "    <tr>\n",
       "      <th>3</th>\n",
       "      <td>Oklahoma City Thunder</td>\n",
       "      <td>0022300201</td>\n",
       "      <td>2023-11-16</td>\n",
       "      <td>OKC @ GSW</td>\n",
       "      <td>W</td>\n",
       "      <td>19.0</td>\n",
       "    </tr>\n",
       "    <tr>\n",
       "      <th>2</th>\n",
       "      <td>Golden State Warriors</td>\n",
       "      <td>0022300201</td>\n",
       "      <td>2023-11-16</td>\n",
       "      <td>GSW vs. OKC</td>\n",
       "      <td>L</td>\n",
       "      <td>-19.0</td>\n",
       "    </tr>\n",
       "    <tr>\n",
       "      <th>1</th>\n",
       "      <td>Miami Heat</td>\n",
       "      <td>0022300200</td>\n",
       "      <td>2023-11-16</td>\n",
       "      <td>MIA vs. BKN</td>\n",
       "      <td>W</td>\n",
       "      <td>7.0</td>\n",
       "    </tr>\n",
       "    <tr>\n",
       "      <th>0</th>\n",
       "      <td>Brooklyn Nets</td>\n",
       "      <td>0022300200</td>\n",
       "      <td>2023-11-16</td>\n",
       "      <td>BKN @ MIA</td>\n",
       "      <td>L</td>\n",
       "      <td>-7.0</td>\n",
       "    </tr>\n",
       "  </tbody>\n",
       "</table>\n",
       "<p>9423 rows × 6 columns</p>\n",
       "</div>"
      ],
      "text/plain": [
       "                  TEAM_NAME     GAME_ID  GAME_DATE      MATCHUP WL  PLUS_MINUS\n",
       "9422        Detroit Pistons  0021900720 2020-01-31  DET vs. TOR  L       -13.0\n",
       "9409   New Orleans Pelicans  0021900723 2020-01-31  NOP vs. MEM  W        28.0\n",
       "9410        Milwaukee Bucks  0021900724 2020-01-31  MIL vs. DEN  L       -12.0\n",
       "9411       Dallas Mavericks  0021900722 2020-01-31    DAL @ HOU  L        -7.0\n",
       "9412        Toronto Raptors  0021900720 2020-01-31    TOR @ DET  W        13.0\n",
       "...                     ...         ...        ...          ... ..         ...\n",
       "11         Sacramento Kings  0022300198 2023-11-15    SAC @ LAL  W        15.0\n",
       "3     Oklahoma City Thunder  0022300201 2023-11-16    OKC @ GSW  W        19.0\n",
       "2     Golden State Warriors  0022300201 2023-11-16  GSW vs. OKC  L       -19.0\n",
       "1                Miami Heat  0022300200 2023-11-16  MIA vs. BKN  W         7.0\n",
       "0             Brooklyn Nets  0022300200 2023-11-16    BKN @ MIA  L        -7.0\n",
       "\n",
       "[9423 rows x 6 columns]"
      ]
     },
     "execution_count": 6,
     "metadata": {},
     "output_type": "execute_result"
    }
   ],
   "source": [
    "games"
   ]
  },
  {
   "cell_type": "code",
   "execution_count": 7,
   "metadata": {},
   "outputs": [],
   "source": [
    "# calculate for each team the mean of plus minus score for the last 30 games\n",
    "# closed = 'left' that mean without counting the current game \n",
    "games['avg_30_plus_minus'] = games.groupby('TEAM_NAME')['PLUS_MINUS'].transform(lambda x:  x.rolling(30 , closed='left').mean())"
   ]
  },
  {
   "cell_type": "code",
   "execution_count": 8,
   "metadata": {},
   "outputs": [
    {
     "data": {
      "text/html": [
       "<div>\n",
       "<style scoped>\n",
       "    .dataframe tbody tr th:only-of-type {\n",
       "        vertical-align: middle;\n",
       "    }\n",
       "\n",
       "    .dataframe tbody tr th {\n",
       "        vertical-align: top;\n",
       "    }\n",
       "\n",
       "    .dataframe thead th {\n",
       "        text-align: right;\n",
       "    }\n",
       "</style>\n",
       "<table border=\"1\" class=\"dataframe\">\n",
       "  <thead>\n",
       "    <tr style=\"text-align: right;\">\n",
       "      <th></th>\n",
       "      <th>TEAM_NAME</th>\n",
       "      <th>GAME_ID</th>\n",
       "      <th>GAME_DATE</th>\n",
       "      <th>MATCHUP</th>\n",
       "      <th>WL</th>\n",
       "      <th>PLUS_MINUS</th>\n",
       "      <th>avg_30_plus_minus</th>\n",
       "    </tr>\n",
       "  </thead>\n",
       "  <tbody>\n",
       "    <tr>\n",
       "      <th>9422</th>\n",
       "      <td>Detroit Pistons</td>\n",
       "      <td>0021900720</td>\n",
       "      <td>2020-01-31</td>\n",
       "      <td>DET vs. TOR</td>\n",
       "      <td>L</td>\n",
       "      <td>-13.0</td>\n",
       "      <td>NaN</td>\n",
       "    </tr>\n",
       "    <tr>\n",
       "      <th>9409</th>\n",
       "      <td>New Orleans Pelicans</td>\n",
       "      <td>0021900723</td>\n",
       "      <td>2020-01-31</td>\n",
       "      <td>NOP vs. MEM</td>\n",
       "      <td>W</td>\n",
       "      <td>28.0</td>\n",
       "      <td>NaN</td>\n",
       "    </tr>\n",
       "    <tr>\n",
       "      <th>9410</th>\n",
       "      <td>Milwaukee Bucks</td>\n",
       "      <td>0021900724</td>\n",
       "      <td>2020-01-31</td>\n",
       "      <td>MIL vs. DEN</td>\n",
       "      <td>L</td>\n",
       "      <td>-12.0</td>\n",
       "      <td>NaN</td>\n",
       "    </tr>\n",
       "    <tr>\n",
       "      <th>9411</th>\n",
       "      <td>Dallas Mavericks</td>\n",
       "      <td>0021900722</td>\n",
       "      <td>2020-01-31</td>\n",
       "      <td>DAL @ HOU</td>\n",
       "      <td>L</td>\n",
       "      <td>-7.0</td>\n",
       "      <td>NaN</td>\n",
       "    </tr>\n",
       "    <tr>\n",
       "      <th>9412</th>\n",
       "      <td>Toronto Raptors</td>\n",
       "      <td>0021900720</td>\n",
       "      <td>2020-01-31</td>\n",
       "      <td>TOR @ DET</td>\n",
       "      <td>W</td>\n",
       "      <td>13.0</td>\n",
       "      <td>NaN</td>\n",
       "    </tr>\n",
       "    <tr>\n",
       "      <th>...</th>\n",
       "      <td>...</td>\n",
       "      <td>...</td>\n",
       "      <td>...</td>\n",
       "      <td>...</td>\n",
       "      <td>...</td>\n",
       "      <td>...</td>\n",
       "      <td>...</td>\n",
       "    </tr>\n",
       "    <tr>\n",
       "      <th>11</th>\n",
       "      <td>Sacramento Kings</td>\n",
       "      <td>0022300198</td>\n",
       "      <td>2023-11-15</td>\n",
       "      <td>SAC @ LAL</td>\n",
       "      <td>W</td>\n",
       "      <td>15.0</td>\n",
       "      <td>-0.366667</td>\n",
       "    </tr>\n",
       "    <tr>\n",
       "      <th>3</th>\n",
       "      <td>Oklahoma City Thunder</td>\n",
       "      <td>0022300201</td>\n",
       "      <td>2023-11-16</td>\n",
       "      <td>OKC @ GSW</td>\n",
       "      <td>W</td>\n",
       "      <td>19.0</td>\n",
       "      <td>1.246667</td>\n",
       "    </tr>\n",
       "    <tr>\n",
       "      <th>2</th>\n",
       "      <td>Golden State Warriors</td>\n",
       "      <td>0022300201</td>\n",
       "      <td>2023-11-16</td>\n",
       "      <td>GSW vs. OKC</td>\n",
       "      <td>L</td>\n",
       "      <td>-19.0</td>\n",
       "      <td>1.473333</td>\n",
       "    </tr>\n",
       "    <tr>\n",
       "      <th>1</th>\n",
       "      <td>Miami Heat</td>\n",
       "      <td>0022300200</td>\n",
       "      <td>2023-11-16</td>\n",
       "      <td>MIA vs. BKN</td>\n",
       "      <td>W</td>\n",
       "      <td>7.0</td>\n",
       "      <td>-1.133333</td>\n",
       "    </tr>\n",
       "    <tr>\n",
       "      <th>0</th>\n",
       "      <td>Brooklyn Nets</td>\n",
       "      <td>0022300200</td>\n",
       "      <td>2023-11-16</td>\n",
       "      <td>BKN @ MIA</td>\n",
       "      <td>L</td>\n",
       "      <td>-7.0</td>\n",
       "      <td>1.033333</td>\n",
       "    </tr>\n",
       "  </tbody>\n",
       "</table>\n",
       "<p>9423 rows × 7 columns</p>\n",
       "</div>"
      ],
      "text/plain": [
       "                  TEAM_NAME     GAME_ID  GAME_DATE      MATCHUP WL  \\\n",
       "9422        Detroit Pistons  0021900720 2020-01-31  DET vs. TOR  L   \n",
       "9409   New Orleans Pelicans  0021900723 2020-01-31  NOP vs. MEM  W   \n",
       "9410        Milwaukee Bucks  0021900724 2020-01-31  MIL vs. DEN  L   \n",
       "9411       Dallas Mavericks  0021900722 2020-01-31    DAL @ HOU  L   \n",
       "9412        Toronto Raptors  0021900720 2020-01-31    TOR @ DET  W   \n",
       "...                     ...         ...        ...          ... ..   \n",
       "11         Sacramento Kings  0022300198 2023-11-15    SAC @ LAL  W   \n",
       "3     Oklahoma City Thunder  0022300201 2023-11-16    OKC @ GSW  W   \n",
       "2     Golden State Warriors  0022300201 2023-11-16  GSW vs. OKC  L   \n",
       "1                Miami Heat  0022300200 2023-11-16  MIA vs. BKN  W   \n",
       "0             Brooklyn Nets  0022300200 2023-11-16    BKN @ MIA  L   \n",
       "\n",
       "      PLUS_MINUS  avg_30_plus_minus  \n",
       "9422       -13.0                NaN  \n",
       "9409        28.0                NaN  \n",
       "9410       -12.0                NaN  \n",
       "9411        -7.0                NaN  \n",
       "9412        13.0                NaN  \n",
       "...          ...                ...  \n",
       "11          15.0          -0.366667  \n",
       "3           19.0           1.246667  \n",
       "2          -19.0           1.473333  \n",
       "1            7.0          -1.133333  \n",
       "0           -7.0           1.033333  \n",
       "\n",
       "[9423 rows x 7 columns]"
      ]
     },
     "execution_count": 8,
     "metadata": {},
     "output_type": "execute_result"
    }
   ],
   "source": [
    "games"
   ]
  },
  {
   "cell_type": "code",
   "execution_count": 9,
   "metadata": {},
   "outputs": [],
   "source": [
    "msk = games['MATCHUP'].str.contains('@')"
   ]
  },
  {
   "cell_type": "code",
   "execution_count": 10,
   "metadata": {},
   "outputs": [],
   "source": [
    "games_away = games[msk]\n",
    "games_home = games[~msk]"
   ]
  },
  {
   "cell_type": "code",
   "execution_count": 11,
   "metadata": {},
   "outputs": [
    {
     "data": {
      "text/html": [
       "<div>\n",
       "<style scoped>\n",
       "    .dataframe tbody tr th:only-of-type {\n",
       "        vertical-align: middle;\n",
       "    }\n",
       "\n",
       "    .dataframe tbody tr th {\n",
       "        vertical-align: top;\n",
       "    }\n",
       "\n",
       "    .dataframe thead th {\n",
       "        text-align: right;\n",
       "    }\n",
       "</style>\n",
       "<table border=\"1\" class=\"dataframe\">\n",
       "  <thead>\n",
       "    <tr style=\"text-align: right;\">\n",
       "      <th></th>\n",
       "      <th>TEAM_NAME</th>\n",
       "      <th>GAME_ID</th>\n",
       "      <th>GAME_DATE</th>\n",
       "      <th>MATCHUP</th>\n",
       "      <th>WL</th>\n",
       "      <th>PLUS_MINUS</th>\n",
       "      <th>avg_30_plus_minus</th>\n",
       "    </tr>\n",
       "  </thead>\n",
       "  <tbody>\n",
       "    <tr>\n",
       "      <th>9422</th>\n",
       "      <td>Detroit Pistons</td>\n",
       "      <td>0021900720</td>\n",
       "      <td>2020-01-31</td>\n",
       "      <td>DET vs. TOR</td>\n",
       "      <td>L</td>\n",
       "      <td>-13.0</td>\n",
       "      <td>NaN</td>\n",
       "    </tr>\n",
       "    <tr>\n",
       "      <th>9409</th>\n",
       "      <td>New Orleans Pelicans</td>\n",
       "      <td>0021900723</td>\n",
       "      <td>2020-01-31</td>\n",
       "      <td>NOP vs. MEM</td>\n",
       "      <td>W</td>\n",
       "      <td>28.0</td>\n",
       "      <td>NaN</td>\n",
       "    </tr>\n",
       "    <tr>\n",
       "      <th>9410</th>\n",
       "      <td>Milwaukee Bucks</td>\n",
       "      <td>0021900724</td>\n",
       "      <td>2020-01-31</td>\n",
       "      <td>MIL vs. DEN</td>\n",
       "      <td>L</td>\n",
       "      <td>-12.0</td>\n",
       "      <td>NaN</td>\n",
       "    </tr>\n",
       "    <tr>\n",
       "      <th>9414</th>\n",
       "      <td>Phoenix Suns</td>\n",
       "      <td>0021900725</td>\n",
       "      <td>2020-01-31</td>\n",
       "      <td>PHX vs. OKC</td>\n",
       "      <td>L</td>\n",
       "      <td>-4.0</td>\n",
       "      <td>NaN</td>\n",
       "    </tr>\n",
       "    <tr>\n",
       "      <th>9421</th>\n",
       "      <td>Houston Rockets</td>\n",
       "      <td>0021900722</td>\n",
       "      <td>2020-01-31</td>\n",
       "      <td>HOU vs. DAL</td>\n",
       "      <td>W</td>\n",
       "      <td>7.0</td>\n",
       "      <td>NaN</td>\n",
       "    </tr>\n",
       "    <tr>\n",
       "      <th>...</th>\n",
       "      <td>...</td>\n",
       "      <td>...</td>\n",
       "      <td>...</td>\n",
       "      <td>...</td>\n",
       "      <td>...</td>\n",
       "      <td>...</td>\n",
       "      <td>...</td>\n",
       "    </tr>\n",
       "    <tr>\n",
       "      <th>17</th>\n",
       "      <td>Toronto Raptors</td>\n",
       "      <td>0022300195</td>\n",
       "      <td>2023-11-15</td>\n",
       "      <td>TOR vs. MIL</td>\n",
       "      <td>L</td>\n",
       "      <td>-16.0</td>\n",
       "      <td>5.900000</td>\n",
       "    </tr>\n",
       "    <tr>\n",
       "      <th>18</th>\n",
       "      <td>Chicago Bulls</td>\n",
       "      <td>0022300196</td>\n",
       "      <td>2023-11-15</td>\n",
       "      <td>CHI vs. ORL</td>\n",
       "      <td>L</td>\n",
       "      <td>-2.0</td>\n",
       "      <td>-1.066667</td>\n",
       "    </tr>\n",
       "    <tr>\n",
       "      <th>19</th>\n",
       "      <td>Washington Wizards</td>\n",
       "      <td>0022300192</td>\n",
       "      <td>2023-11-15</td>\n",
       "      <td>WAS vs. DAL</td>\n",
       "      <td>L</td>\n",
       "      <td>-13.0</td>\n",
       "      <td>-3.500000</td>\n",
       "    </tr>\n",
       "    <tr>\n",
       "      <th>2</th>\n",
       "      <td>Golden State Warriors</td>\n",
       "      <td>0022300201</td>\n",
       "      <td>2023-11-16</td>\n",
       "      <td>GSW vs. OKC</td>\n",
       "      <td>L</td>\n",
       "      <td>-19.0</td>\n",
       "      <td>1.473333</td>\n",
       "    </tr>\n",
       "    <tr>\n",
       "      <th>1</th>\n",
       "      <td>Miami Heat</td>\n",
       "      <td>0022300200</td>\n",
       "      <td>2023-11-16</td>\n",
       "      <td>MIA vs. BKN</td>\n",
       "      <td>W</td>\n",
       "      <td>7.0</td>\n",
       "      <td>-1.133333</td>\n",
       "    </tr>\n",
       "  </tbody>\n",
       "</table>\n",
       "<p>4712 rows × 7 columns</p>\n",
       "</div>"
      ],
      "text/plain": [
       "                  TEAM_NAME     GAME_ID  GAME_DATE      MATCHUP WL  \\\n",
       "9422        Detroit Pistons  0021900720 2020-01-31  DET vs. TOR  L   \n",
       "9409   New Orleans Pelicans  0021900723 2020-01-31  NOP vs. MEM  W   \n",
       "9410        Milwaukee Bucks  0021900724 2020-01-31  MIL vs. DEN  L   \n",
       "9414           Phoenix Suns  0021900725 2020-01-31  PHX vs. OKC  L   \n",
       "9421        Houston Rockets  0021900722 2020-01-31  HOU vs. DAL  W   \n",
       "...                     ...         ...        ...          ... ..   \n",
       "17          Toronto Raptors  0022300195 2023-11-15  TOR vs. MIL  L   \n",
       "18            Chicago Bulls  0022300196 2023-11-15  CHI vs. ORL  L   \n",
       "19       Washington Wizards  0022300192 2023-11-15  WAS vs. DAL  L   \n",
       "2     Golden State Warriors  0022300201 2023-11-16  GSW vs. OKC  L   \n",
       "1                Miami Heat  0022300200 2023-11-16  MIA vs. BKN  W   \n",
       "\n",
       "      PLUS_MINUS  avg_30_plus_minus  \n",
       "9422       -13.0                NaN  \n",
       "9409        28.0                NaN  \n",
       "9410       -12.0                NaN  \n",
       "9414        -4.0                NaN  \n",
       "9421         7.0                NaN  \n",
       "...          ...                ...  \n",
       "17         -16.0           5.900000  \n",
       "18          -2.0          -1.066667  \n",
       "19         -13.0          -3.500000  \n",
       "2          -19.0           1.473333  \n",
       "1            7.0          -1.133333  \n",
       "\n",
       "[4712 rows x 7 columns]"
      ]
     },
     "execution_count": 11,
     "metadata": {},
     "output_type": "execute_result"
    }
   ],
   "source": [
    "games_home"
   ]
  },
  {
   "cell_type": "code",
   "execution_count": 12,
   "metadata": {},
   "outputs": [
    {
     "data": {
      "text/html": [
       "<div>\n",
       "<style scoped>\n",
       "    .dataframe tbody tr th:only-of-type {\n",
       "        vertical-align: middle;\n",
       "    }\n",
       "\n",
       "    .dataframe tbody tr th {\n",
       "        vertical-align: top;\n",
       "    }\n",
       "\n",
       "    .dataframe thead th {\n",
       "        text-align: right;\n",
       "    }\n",
       "</style>\n",
       "<table border=\"1\" class=\"dataframe\">\n",
       "  <thead>\n",
       "    <tr style=\"text-align: right;\">\n",
       "      <th></th>\n",
       "      <th>TEAM_NAME</th>\n",
       "      <th>GAME_ID</th>\n",
       "      <th>GAME_DATE</th>\n",
       "      <th>MATCHUP</th>\n",
       "      <th>WL</th>\n",
       "      <th>PLUS_MINUS</th>\n",
       "      <th>avg_30_plus_minus</th>\n",
       "    </tr>\n",
       "  </thead>\n",
       "  <tbody>\n",
       "    <tr>\n",
       "      <th>9411</th>\n",
       "      <td>Dallas Mavericks</td>\n",
       "      <td>0021900722</td>\n",
       "      <td>2020-01-31</td>\n",
       "      <td>DAL @ HOU</td>\n",
       "      <td>L</td>\n",
       "      <td>-7.0</td>\n",
       "      <td>NaN</td>\n",
       "    </tr>\n",
       "    <tr>\n",
       "      <th>9412</th>\n",
       "      <td>Toronto Raptors</td>\n",
       "      <td>0021900720</td>\n",
       "      <td>2020-01-31</td>\n",
       "      <td>TOR @ DET</td>\n",
       "      <td>W</td>\n",
       "      <td>13.0</td>\n",
       "      <td>NaN</td>\n",
       "    </tr>\n",
       "    <tr>\n",
       "      <th>9413</th>\n",
       "      <td>Denver Nuggets</td>\n",
       "      <td>0021900724</td>\n",
       "      <td>2020-01-31</td>\n",
       "      <td>DEN @ MIL</td>\n",
       "      <td>W</td>\n",
       "      <td>12.0</td>\n",
       "      <td>NaN</td>\n",
       "    </tr>\n",
       "    <tr>\n",
       "      <th>9416</th>\n",
       "      <td>Memphis Grizzlies</td>\n",
       "      <td>0021900723</td>\n",
       "      <td>2020-01-31</td>\n",
       "      <td>MEM @ NOP</td>\n",
       "      <td>L</td>\n",
       "      <td>-28.0</td>\n",
       "      <td>NaN</td>\n",
       "    </tr>\n",
       "    <tr>\n",
       "      <th>9418</th>\n",
       "      <td>Oklahoma City Thunder</td>\n",
       "      <td>0021900725</td>\n",
       "      <td>2020-01-31</td>\n",
       "      <td>OKC @ PHX</td>\n",
       "      <td>W</td>\n",
       "      <td>4.0</td>\n",
       "      <td>NaN</td>\n",
       "    </tr>\n",
       "    <tr>\n",
       "      <th>...</th>\n",
       "      <td>...</td>\n",
       "      <td>...</td>\n",
       "      <td>...</td>\n",
       "      <td>...</td>\n",
       "      <td>...</td>\n",
       "      <td>...</td>\n",
       "      <td>...</td>\n",
       "    </tr>\n",
       "    <tr>\n",
       "      <th>13</th>\n",
       "      <td>Minnesota Timberwolves</td>\n",
       "      <td>0022300197</td>\n",
       "      <td>2023-11-15</td>\n",
       "      <td>MIN @ PHX</td>\n",
       "      <td>L</td>\n",
       "      <td>-18.0</td>\n",
       "      <td>4.866667</td>\n",
       "    </tr>\n",
       "    <tr>\n",
       "      <th>15</th>\n",
       "      <td>Orlando Magic</td>\n",
       "      <td>0022300196</td>\n",
       "      <td>2023-11-15</td>\n",
       "      <td>ORL @ CHI</td>\n",
       "      <td>W</td>\n",
       "      <td>2.0</td>\n",
       "      <td>1.266667</td>\n",
       "    </tr>\n",
       "    <tr>\n",
       "      <th>11</th>\n",
       "      <td>Sacramento Kings</td>\n",
       "      <td>0022300198</td>\n",
       "      <td>2023-11-15</td>\n",
       "      <td>SAC @ LAL</td>\n",
       "      <td>W</td>\n",
       "      <td>15.0</td>\n",
       "      <td>-0.366667</td>\n",
       "    </tr>\n",
       "    <tr>\n",
       "      <th>3</th>\n",
       "      <td>Oklahoma City Thunder</td>\n",
       "      <td>0022300201</td>\n",
       "      <td>2023-11-16</td>\n",
       "      <td>OKC @ GSW</td>\n",
       "      <td>W</td>\n",
       "      <td>19.0</td>\n",
       "      <td>1.246667</td>\n",
       "    </tr>\n",
       "    <tr>\n",
       "      <th>0</th>\n",
       "      <td>Brooklyn Nets</td>\n",
       "      <td>0022300200</td>\n",
       "      <td>2023-11-16</td>\n",
       "      <td>BKN @ MIA</td>\n",
       "      <td>L</td>\n",
       "      <td>-7.0</td>\n",
       "      <td>1.033333</td>\n",
       "    </tr>\n",
       "  </tbody>\n",
       "</table>\n",
       "<p>4711 rows × 7 columns</p>\n",
       "</div>"
      ],
      "text/plain": [
       "                   TEAM_NAME     GAME_ID  GAME_DATE    MATCHUP WL  PLUS_MINUS  \\\n",
       "9411        Dallas Mavericks  0021900722 2020-01-31  DAL @ HOU  L        -7.0   \n",
       "9412         Toronto Raptors  0021900720 2020-01-31  TOR @ DET  W        13.0   \n",
       "9413          Denver Nuggets  0021900724 2020-01-31  DEN @ MIL  W        12.0   \n",
       "9416       Memphis Grizzlies  0021900723 2020-01-31  MEM @ NOP  L       -28.0   \n",
       "9418   Oklahoma City Thunder  0021900725 2020-01-31  OKC @ PHX  W         4.0   \n",
       "...                      ...         ...        ...        ... ..         ...   \n",
       "13    Minnesota Timberwolves  0022300197 2023-11-15  MIN @ PHX  L       -18.0   \n",
       "15             Orlando Magic  0022300196 2023-11-15  ORL @ CHI  W         2.0   \n",
       "11          Sacramento Kings  0022300198 2023-11-15  SAC @ LAL  W        15.0   \n",
       "3      Oklahoma City Thunder  0022300201 2023-11-16  OKC @ GSW  W        19.0   \n",
       "0              Brooklyn Nets  0022300200 2023-11-16  BKN @ MIA  L        -7.0   \n",
       "\n",
       "      avg_30_plus_minus  \n",
       "9411                NaN  \n",
       "9412                NaN  \n",
       "9413                NaN  \n",
       "9416                NaN  \n",
       "9418                NaN  \n",
       "...                 ...  \n",
       "13             4.866667  \n",
       "15             1.266667  \n",
       "11            -0.366667  \n",
       "3              1.246667  \n",
       "0              1.033333  \n",
       "\n",
       "[4711 rows x 7 columns]"
      ]
     },
     "execution_count": 12,
     "metadata": {},
     "output_type": "execute_result"
    }
   ],
   "source": [
    "games_away"
   ]
  },
  {
   "cell_type": "code",
   "execution_count": 13,
   "metadata": {},
   "outputs": [],
   "source": [
    "games_merged = pd.merge(games_home , games_away , on='GAME_ID' , suffixes=('_home' , '_away'))"
   ]
  },
  {
   "cell_type": "code",
   "execution_count": 14,
   "metadata": {},
   "outputs": [
    {
     "data": {
      "text/html": [
       "<div>\n",
       "<style scoped>\n",
       "    .dataframe tbody tr th:only-of-type {\n",
       "        vertical-align: middle;\n",
       "    }\n",
       "\n",
       "    .dataframe tbody tr th {\n",
       "        vertical-align: top;\n",
       "    }\n",
       "\n",
       "    .dataframe thead th {\n",
       "        text-align: right;\n",
       "    }\n",
       "</style>\n",
       "<table border=\"1\" class=\"dataframe\">\n",
       "  <thead>\n",
       "    <tr style=\"text-align: right;\">\n",
       "      <th></th>\n",
       "      <th>TEAM_NAME_home</th>\n",
       "      <th>GAME_ID</th>\n",
       "      <th>GAME_DATE_home</th>\n",
       "      <th>MATCHUP_home</th>\n",
       "      <th>WL_home</th>\n",
       "      <th>PLUS_MINUS_home</th>\n",
       "      <th>avg_30_plus_minus_home</th>\n",
       "      <th>TEAM_NAME_away</th>\n",
       "      <th>GAME_DATE_away</th>\n",
       "      <th>MATCHUP_away</th>\n",
       "      <th>WL_away</th>\n",
       "      <th>PLUS_MINUS_away</th>\n",
       "      <th>avg_30_plus_minus_away</th>\n",
       "    </tr>\n",
       "  </thead>\n",
       "  <tbody>\n",
       "    <tr>\n",
       "      <th>0</th>\n",
       "      <td>Detroit Pistons</td>\n",
       "      <td>0021900720</td>\n",
       "      <td>2020-01-31</td>\n",
       "      <td>DET vs. TOR</td>\n",
       "      <td>L</td>\n",
       "      <td>-13.0</td>\n",
       "      <td>NaN</td>\n",
       "      <td>Toronto Raptors</td>\n",
       "      <td>2020-01-31</td>\n",
       "      <td>TOR @ DET</td>\n",
       "      <td>W</td>\n",
       "      <td>13.0</td>\n",
       "      <td>NaN</td>\n",
       "    </tr>\n",
       "    <tr>\n",
       "      <th>1</th>\n",
       "      <td>New Orleans Pelicans</td>\n",
       "      <td>0021900723</td>\n",
       "      <td>2020-01-31</td>\n",
       "      <td>NOP vs. MEM</td>\n",
       "      <td>W</td>\n",
       "      <td>28.0</td>\n",
       "      <td>NaN</td>\n",
       "      <td>Memphis Grizzlies</td>\n",
       "      <td>2020-01-31</td>\n",
       "      <td>MEM @ NOP</td>\n",
       "      <td>L</td>\n",
       "      <td>-28.0</td>\n",
       "      <td>NaN</td>\n",
       "    </tr>\n",
       "    <tr>\n",
       "      <th>2</th>\n",
       "      <td>Milwaukee Bucks</td>\n",
       "      <td>0021900724</td>\n",
       "      <td>2020-01-31</td>\n",
       "      <td>MIL vs. DEN</td>\n",
       "      <td>L</td>\n",
       "      <td>-12.0</td>\n",
       "      <td>NaN</td>\n",
       "      <td>Denver Nuggets</td>\n",
       "      <td>2020-01-31</td>\n",
       "      <td>DEN @ MIL</td>\n",
       "      <td>W</td>\n",
       "      <td>12.0</td>\n",
       "      <td>NaN</td>\n",
       "    </tr>\n",
       "    <tr>\n",
       "      <th>3</th>\n",
       "      <td>Phoenix Suns</td>\n",
       "      <td>0021900725</td>\n",
       "      <td>2020-01-31</td>\n",
       "      <td>PHX vs. OKC</td>\n",
       "      <td>L</td>\n",
       "      <td>-4.0</td>\n",
       "      <td>NaN</td>\n",
       "      <td>Oklahoma City Thunder</td>\n",
       "      <td>2020-01-31</td>\n",
       "      <td>OKC @ PHX</td>\n",
       "      <td>W</td>\n",
       "      <td>4.0</td>\n",
       "      <td>NaN</td>\n",
       "    </tr>\n",
       "    <tr>\n",
       "      <th>4</th>\n",
       "      <td>Houston Rockets</td>\n",
       "      <td>0021900722</td>\n",
       "      <td>2020-01-31</td>\n",
       "      <td>HOU vs. DAL</td>\n",
       "      <td>W</td>\n",
       "      <td>7.0</td>\n",
       "      <td>NaN</td>\n",
       "      <td>Dallas Mavericks</td>\n",
       "      <td>2020-01-31</td>\n",
       "      <td>DAL @ HOU</td>\n",
       "      <td>L</td>\n",
       "      <td>-7.0</td>\n",
       "      <td>NaN</td>\n",
       "    </tr>\n",
       "    <tr>\n",
       "      <th>...</th>\n",
       "      <td>...</td>\n",
       "      <td>...</td>\n",
       "      <td>...</td>\n",
       "      <td>...</td>\n",
       "      <td>...</td>\n",
       "      <td>...</td>\n",
       "      <td>...</td>\n",
       "      <td>...</td>\n",
       "      <td>...</td>\n",
       "      <td>...</td>\n",
       "      <td>...</td>\n",
       "      <td>...</td>\n",
       "      <td>...</td>\n",
       "    </tr>\n",
       "    <tr>\n",
       "      <th>4707</th>\n",
       "      <td>Toronto Raptors</td>\n",
       "      <td>0022300195</td>\n",
       "      <td>2023-11-15</td>\n",
       "      <td>TOR vs. MIL</td>\n",
       "      <td>L</td>\n",
       "      <td>-16.0</td>\n",
       "      <td>5.900000</td>\n",
       "      <td>Milwaukee Bucks</td>\n",
       "      <td>2023-11-15</td>\n",
       "      <td>MIL @ TOR</td>\n",
       "      <td>W</td>\n",
       "      <td>16.0</td>\n",
       "      <td>-2.400000</td>\n",
       "    </tr>\n",
       "    <tr>\n",
       "      <th>4708</th>\n",
       "      <td>Chicago Bulls</td>\n",
       "      <td>0022300196</td>\n",
       "      <td>2023-11-15</td>\n",
       "      <td>CHI vs. ORL</td>\n",
       "      <td>L</td>\n",
       "      <td>-2.0</td>\n",
       "      <td>-1.066667</td>\n",
       "      <td>Orlando Magic</td>\n",
       "      <td>2023-11-15</td>\n",
       "      <td>ORL @ CHI</td>\n",
       "      <td>W</td>\n",
       "      <td>2.0</td>\n",
       "      <td>1.266667</td>\n",
       "    </tr>\n",
       "    <tr>\n",
       "      <th>4709</th>\n",
       "      <td>Washington Wizards</td>\n",
       "      <td>0022300192</td>\n",
       "      <td>2023-11-15</td>\n",
       "      <td>WAS vs. DAL</td>\n",
       "      <td>L</td>\n",
       "      <td>-13.0</td>\n",
       "      <td>-3.500000</td>\n",
       "      <td>Dallas Mavericks</td>\n",
       "      <td>2023-11-15</td>\n",
       "      <td>DAL @ WAS</td>\n",
       "      <td>W</td>\n",
       "      <td>13.0</td>\n",
       "      <td>-0.466667</td>\n",
       "    </tr>\n",
       "    <tr>\n",
       "      <th>4710</th>\n",
       "      <td>Golden State Warriors</td>\n",
       "      <td>0022300201</td>\n",
       "      <td>2023-11-16</td>\n",
       "      <td>GSW vs. OKC</td>\n",
       "      <td>L</td>\n",
       "      <td>-19.0</td>\n",
       "      <td>1.473333</td>\n",
       "      <td>Oklahoma City Thunder</td>\n",
       "      <td>2023-11-16</td>\n",
       "      <td>OKC @ GSW</td>\n",
       "      <td>W</td>\n",
       "      <td>19.0</td>\n",
       "      <td>1.246667</td>\n",
       "    </tr>\n",
       "    <tr>\n",
       "      <th>4711</th>\n",
       "      <td>Miami Heat</td>\n",
       "      <td>0022300200</td>\n",
       "      <td>2023-11-16</td>\n",
       "      <td>MIA vs. BKN</td>\n",
       "      <td>W</td>\n",
       "      <td>7.0</td>\n",
       "      <td>-1.133333</td>\n",
       "      <td>Brooklyn Nets</td>\n",
       "      <td>2023-11-16</td>\n",
       "      <td>BKN @ MIA</td>\n",
       "      <td>L</td>\n",
       "      <td>-7.0</td>\n",
       "      <td>1.033333</td>\n",
       "    </tr>\n",
       "  </tbody>\n",
       "</table>\n",
       "<p>4712 rows × 13 columns</p>\n",
       "</div>"
      ],
      "text/plain": [
       "             TEAM_NAME_home     GAME_ID GAME_DATE_home MATCHUP_home WL_home  \\\n",
       "0           Detroit Pistons  0021900720     2020-01-31  DET vs. TOR       L   \n",
       "1      New Orleans Pelicans  0021900723     2020-01-31  NOP vs. MEM       W   \n",
       "2           Milwaukee Bucks  0021900724     2020-01-31  MIL vs. DEN       L   \n",
       "3              Phoenix Suns  0021900725     2020-01-31  PHX vs. OKC       L   \n",
       "4           Houston Rockets  0021900722     2020-01-31  HOU vs. DAL       W   \n",
       "...                     ...         ...            ...          ...     ...   \n",
       "4707        Toronto Raptors  0022300195     2023-11-15  TOR vs. MIL       L   \n",
       "4708          Chicago Bulls  0022300196     2023-11-15  CHI vs. ORL       L   \n",
       "4709     Washington Wizards  0022300192     2023-11-15  WAS vs. DAL       L   \n",
       "4710  Golden State Warriors  0022300201     2023-11-16  GSW vs. OKC       L   \n",
       "4711             Miami Heat  0022300200     2023-11-16  MIA vs. BKN       W   \n",
       "\n",
       "      PLUS_MINUS_home  avg_30_plus_minus_home         TEAM_NAME_away  \\\n",
       "0               -13.0                     NaN        Toronto Raptors   \n",
       "1                28.0                     NaN      Memphis Grizzlies   \n",
       "2               -12.0                     NaN         Denver Nuggets   \n",
       "3                -4.0                     NaN  Oklahoma City Thunder   \n",
       "4                 7.0                     NaN       Dallas Mavericks   \n",
       "...               ...                     ...                    ...   \n",
       "4707            -16.0                5.900000        Milwaukee Bucks   \n",
       "4708             -2.0               -1.066667          Orlando Magic   \n",
       "4709            -13.0               -3.500000       Dallas Mavericks   \n",
       "4710            -19.0                1.473333  Oklahoma City Thunder   \n",
       "4711              7.0               -1.133333          Brooklyn Nets   \n",
       "\n",
       "     GAME_DATE_away MATCHUP_away WL_away  PLUS_MINUS_away  \\\n",
       "0        2020-01-31    TOR @ DET       W             13.0   \n",
       "1        2020-01-31    MEM @ NOP       L            -28.0   \n",
       "2        2020-01-31    DEN @ MIL       W             12.0   \n",
       "3        2020-01-31    OKC @ PHX       W              4.0   \n",
       "4        2020-01-31    DAL @ HOU       L             -7.0   \n",
       "...             ...          ...     ...              ...   \n",
       "4707     2023-11-15    MIL @ TOR       W             16.0   \n",
       "4708     2023-11-15    ORL @ CHI       W              2.0   \n",
       "4709     2023-11-15    DAL @ WAS       W             13.0   \n",
       "4710     2023-11-16    OKC @ GSW       W             19.0   \n",
       "4711     2023-11-16    BKN @ MIA       L             -7.0   \n",
       "\n",
       "      avg_30_plus_minus_away  \n",
       "0                        NaN  \n",
       "1                        NaN  \n",
       "2                        NaN  \n",
       "3                        NaN  \n",
       "4                        NaN  \n",
       "...                      ...  \n",
       "4707               -2.400000  \n",
       "4708                1.266667  \n",
       "4709               -0.466667  \n",
       "4710                1.246667  \n",
       "4711                1.033333  \n",
       "\n",
       "[4712 rows x 13 columns]"
      ]
     },
     "execution_count": 14,
     "metadata": {},
     "output_type": "execute_result"
    }
   ],
   "source": [
    "games_merged"
   ]
  },
  {
   "cell_type": "code",
   "execution_count": 15,
   "metadata": {},
   "outputs": [],
   "source": [
    "games_merged['avg_30_plus_minus_diff'] = games_merged['avg_30_plus_minus_home']-games_merged['avg_30_plus_minus_away']"
   ]
  },
  {
   "cell_type": "code",
   "execution_count": 16,
   "metadata": {},
   "outputs": [
    {
     "data": {
      "text/html": [
       "<div>\n",
       "<style scoped>\n",
       "    .dataframe tbody tr th:only-of-type {\n",
       "        vertical-align: middle;\n",
       "    }\n",
       "\n",
       "    .dataframe tbody tr th {\n",
       "        vertical-align: top;\n",
       "    }\n",
       "\n",
       "    .dataframe thead th {\n",
       "        text-align: right;\n",
       "    }\n",
       "</style>\n",
       "<table border=\"1\" class=\"dataframe\">\n",
       "  <thead>\n",
       "    <tr style=\"text-align: right;\">\n",
       "      <th></th>\n",
       "      <th>TEAM_NAME_home</th>\n",
       "      <th>GAME_ID</th>\n",
       "      <th>GAME_DATE_home</th>\n",
       "      <th>MATCHUP_home</th>\n",
       "      <th>WL_home</th>\n",
       "      <th>PLUS_MINUS_home</th>\n",
       "      <th>avg_30_plus_minus_home</th>\n",
       "      <th>TEAM_NAME_away</th>\n",
       "      <th>GAME_DATE_away</th>\n",
       "      <th>MATCHUP_away</th>\n",
       "      <th>WL_away</th>\n",
       "      <th>PLUS_MINUS_away</th>\n",
       "      <th>avg_30_plus_minus_away</th>\n",
       "      <th>avg_30_plus_minus_diff</th>\n",
       "    </tr>\n",
       "  </thead>\n",
       "  <tbody>\n",
       "    <tr>\n",
       "      <th>0</th>\n",
       "      <td>Detroit Pistons</td>\n",
       "      <td>0021900720</td>\n",
       "      <td>2020-01-31</td>\n",
       "      <td>DET vs. TOR</td>\n",
       "      <td>L</td>\n",
       "      <td>-13.0</td>\n",
       "      <td>NaN</td>\n",
       "      <td>Toronto Raptors</td>\n",
       "      <td>2020-01-31</td>\n",
       "      <td>TOR @ DET</td>\n",
       "      <td>W</td>\n",
       "      <td>13.0</td>\n",
       "      <td>NaN</td>\n",
       "      <td>NaN</td>\n",
       "    </tr>\n",
       "    <tr>\n",
       "      <th>1</th>\n",
       "      <td>New Orleans Pelicans</td>\n",
       "      <td>0021900723</td>\n",
       "      <td>2020-01-31</td>\n",
       "      <td>NOP vs. MEM</td>\n",
       "      <td>W</td>\n",
       "      <td>28.0</td>\n",
       "      <td>NaN</td>\n",
       "      <td>Memphis Grizzlies</td>\n",
       "      <td>2020-01-31</td>\n",
       "      <td>MEM @ NOP</td>\n",
       "      <td>L</td>\n",
       "      <td>-28.0</td>\n",
       "      <td>NaN</td>\n",
       "      <td>NaN</td>\n",
       "    </tr>\n",
       "    <tr>\n",
       "      <th>2</th>\n",
       "      <td>Milwaukee Bucks</td>\n",
       "      <td>0021900724</td>\n",
       "      <td>2020-01-31</td>\n",
       "      <td>MIL vs. DEN</td>\n",
       "      <td>L</td>\n",
       "      <td>-12.0</td>\n",
       "      <td>NaN</td>\n",
       "      <td>Denver Nuggets</td>\n",
       "      <td>2020-01-31</td>\n",
       "      <td>DEN @ MIL</td>\n",
       "      <td>W</td>\n",
       "      <td>12.0</td>\n",
       "      <td>NaN</td>\n",
       "      <td>NaN</td>\n",
       "    </tr>\n",
       "    <tr>\n",
       "      <th>3</th>\n",
       "      <td>Phoenix Suns</td>\n",
       "      <td>0021900725</td>\n",
       "      <td>2020-01-31</td>\n",
       "      <td>PHX vs. OKC</td>\n",
       "      <td>L</td>\n",
       "      <td>-4.0</td>\n",
       "      <td>NaN</td>\n",
       "      <td>Oklahoma City Thunder</td>\n",
       "      <td>2020-01-31</td>\n",
       "      <td>OKC @ PHX</td>\n",
       "      <td>W</td>\n",
       "      <td>4.0</td>\n",
       "      <td>NaN</td>\n",
       "      <td>NaN</td>\n",
       "    </tr>\n",
       "    <tr>\n",
       "      <th>4</th>\n",
       "      <td>Houston Rockets</td>\n",
       "      <td>0021900722</td>\n",
       "      <td>2020-01-31</td>\n",
       "      <td>HOU vs. DAL</td>\n",
       "      <td>W</td>\n",
       "      <td>7.0</td>\n",
       "      <td>NaN</td>\n",
       "      <td>Dallas Mavericks</td>\n",
       "      <td>2020-01-31</td>\n",
       "      <td>DAL @ HOU</td>\n",
       "      <td>L</td>\n",
       "      <td>-7.0</td>\n",
       "      <td>NaN</td>\n",
       "      <td>NaN</td>\n",
       "    </tr>\n",
       "    <tr>\n",
       "      <th>...</th>\n",
       "      <td>...</td>\n",
       "      <td>...</td>\n",
       "      <td>...</td>\n",
       "      <td>...</td>\n",
       "      <td>...</td>\n",
       "      <td>...</td>\n",
       "      <td>...</td>\n",
       "      <td>...</td>\n",
       "      <td>...</td>\n",
       "      <td>...</td>\n",
       "      <td>...</td>\n",
       "      <td>...</td>\n",
       "      <td>...</td>\n",
       "      <td>...</td>\n",
       "    </tr>\n",
       "    <tr>\n",
       "      <th>4707</th>\n",
       "      <td>Toronto Raptors</td>\n",
       "      <td>0022300195</td>\n",
       "      <td>2023-11-15</td>\n",
       "      <td>TOR vs. MIL</td>\n",
       "      <td>L</td>\n",
       "      <td>-16.0</td>\n",
       "      <td>5.900000</td>\n",
       "      <td>Milwaukee Bucks</td>\n",
       "      <td>2023-11-15</td>\n",
       "      <td>MIL @ TOR</td>\n",
       "      <td>W</td>\n",
       "      <td>16.0</td>\n",
       "      <td>-2.400000</td>\n",
       "      <td>8.300000</td>\n",
       "    </tr>\n",
       "    <tr>\n",
       "      <th>4708</th>\n",
       "      <td>Chicago Bulls</td>\n",
       "      <td>0022300196</td>\n",
       "      <td>2023-11-15</td>\n",
       "      <td>CHI vs. ORL</td>\n",
       "      <td>L</td>\n",
       "      <td>-2.0</td>\n",
       "      <td>-1.066667</td>\n",
       "      <td>Orlando Magic</td>\n",
       "      <td>2023-11-15</td>\n",
       "      <td>ORL @ CHI</td>\n",
       "      <td>W</td>\n",
       "      <td>2.0</td>\n",
       "      <td>1.266667</td>\n",
       "      <td>-2.333333</td>\n",
       "    </tr>\n",
       "    <tr>\n",
       "      <th>4709</th>\n",
       "      <td>Washington Wizards</td>\n",
       "      <td>0022300192</td>\n",
       "      <td>2023-11-15</td>\n",
       "      <td>WAS vs. DAL</td>\n",
       "      <td>L</td>\n",
       "      <td>-13.0</td>\n",
       "      <td>-3.500000</td>\n",
       "      <td>Dallas Mavericks</td>\n",
       "      <td>2023-11-15</td>\n",
       "      <td>DAL @ WAS</td>\n",
       "      <td>W</td>\n",
       "      <td>13.0</td>\n",
       "      <td>-0.466667</td>\n",
       "      <td>-3.033333</td>\n",
       "    </tr>\n",
       "    <tr>\n",
       "      <th>4710</th>\n",
       "      <td>Golden State Warriors</td>\n",
       "      <td>0022300201</td>\n",
       "      <td>2023-11-16</td>\n",
       "      <td>GSW vs. OKC</td>\n",
       "      <td>L</td>\n",
       "      <td>-19.0</td>\n",
       "      <td>1.473333</td>\n",
       "      <td>Oklahoma City Thunder</td>\n",
       "      <td>2023-11-16</td>\n",
       "      <td>OKC @ GSW</td>\n",
       "      <td>W</td>\n",
       "      <td>19.0</td>\n",
       "      <td>1.246667</td>\n",
       "      <td>0.226667</td>\n",
       "    </tr>\n",
       "    <tr>\n",
       "      <th>4711</th>\n",
       "      <td>Miami Heat</td>\n",
       "      <td>0022300200</td>\n",
       "      <td>2023-11-16</td>\n",
       "      <td>MIA vs. BKN</td>\n",
       "      <td>W</td>\n",
       "      <td>7.0</td>\n",
       "      <td>-1.133333</td>\n",
       "      <td>Brooklyn Nets</td>\n",
       "      <td>2023-11-16</td>\n",
       "      <td>BKN @ MIA</td>\n",
       "      <td>L</td>\n",
       "      <td>-7.0</td>\n",
       "      <td>1.033333</td>\n",
       "      <td>-2.166667</td>\n",
       "    </tr>\n",
       "  </tbody>\n",
       "</table>\n",
       "<p>4712 rows × 14 columns</p>\n",
       "</div>"
      ],
      "text/plain": [
       "             TEAM_NAME_home     GAME_ID GAME_DATE_home MATCHUP_home WL_home  \\\n",
       "0           Detroit Pistons  0021900720     2020-01-31  DET vs. TOR       L   \n",
       "1      New Orleans Pelicans  0021900723     2020-01-31  NOP vs. MEM       W   \n",
       "2           Milwaukee Bucks  0021900724     2020-01-31  MIL vs. DEN       L   \n",
       "3              Phoenix Suns  0021900725     2020-01-31  PHX vs. OKC       L   \n",
       "4           Houston Rockets  0021900722     2020-01-31  HOU vs. DAL       W   \n",
       "...                     ...         ...            ...          ...     ...   \n",
       "4707        Toronto Raptors  0022300195     2023-11-15  TOR vs. MIL       L   \n",
       "4708          Chicago Bulls  0022300196     2023-11-15  CHI vs. ORL       L   \n",
       "4709     Washington Wizards  0022300192     2023-11-15  WAS vs. DAL       L   \n",
       "4710  Golden State Warriors  0022300201     2023-11-16  GSW vs. OKC       L   \n",
       "4711             Miami Heat  0022300200     2023-11-16  MIA vs. BKN       W   \n",
       "\n",
       "      PLUS_MINUS_home  avg_30_plus_minus_home         TEAM_NAME_away  \\\n",
       "0               -13.0                     NaN        Toronto Raptors   \n",
       "1                28.0                     NaN      Memphis Grizzlies   \n",
       "2               -12.0                     NaN         Denver Nuggets   \n",
       "3                -4.0                     NaN  Oklahoma City Thunder   \n",
       "4                 7.0                     NaN       Dallas Mavericks   \n",
       "...               ...                     ...                    ...   \n",
       "4707            -16.0                5.900000        Milwaukee Bucks   \n",
       "4708             -2.0               -1.066667          Orlando Magic   \n",
       "4709            -13.0               -3.500000       Dallas Mavericks   \n",
       "4710            -19.0                1.473333  Oklahoma City Thunder   \n",
       "4711              7.0               -1.133333          Brooklyn Nets   \n",
       "\n",
       "     GAME_DATE_away MATCHUP_away WL_away  PLUS_MINUS_away  \\\n",
       "0        2020-01-31    TOR @ DET       W             13.0   \n",
       "1        2020-01-31    MEM @ NOP       L            -28.0   \n",
       "2        2020-01-31    DEN @ MIL       W             12.0   \n",
       "3        2020-01-31    OKC @ PHX       W              4.0   \n",
       "4        2020-01-31    DAL @ HOU       L             -7.0   \n",
       "...             ...          ...     ...              ...   \n",
       "4707     2023-11-15    MIL @ TOR       W             16.0   \n",
       "4708     2023-11-15    ORL @ CHI       W              2.0   \n",
       "4709     2023-11-15    DAL @ WAS       W             13.0   \n",
       "4710     2023-11-16    OKC @ GSW       W             19.0   \n",
       "4711     2023-11-16    BKN @ MIA       L             -7.0   \n",
       "\n",
       "      avg_30_plus_minus_away  avg_30_plus_minus_diff  \n",
       "0                        NaN                     NaN  \n",
       "1                        NaN                     NaN  \n",
       "2                        NaN                     NaN  \n",
       "3                        NaN                     NaN  \n",
       "4                        NaN                     NaN  \n",
       "...                      ...                     ...  \n",
       "4707               -2.400000                8.300000  \n",
       "4708                1.266667               -2.333333  \n",
       "4709               -0.466667               -3.033333  \n",
       "4710                1.246667                0.226667  \n",
       "4711                1.033333               -2.166667  \n",
       "\n",
       "[4712 rows x 14 columns]"
      ]
     },
     "execution_count": 16,
     "metadata": {},
     "output_type": "execute_result"
    }
   ],
   "source": [
    "games_merged"
   ]
  },
  {
   "cell_type": "code",
   "execution_count": 17,
   "metadata": {},
   "outputs": [],
   "source": [
    "games_model = games_merged[['WL_home' , 'avg_30_plus_minus_diff']].dropna()"
   ]
  },
  {
   "cell_type": "code",
   "execution_count": 18,
   "metadata": {},
   "outputs": [
    {
     "data": {
      "text/html": [
       "<div>\n",
       "<style scoped>\n",
       "    .dataframe tbody tr th:only-of-type {\n",
       "        vertical-align: middle;\n",
       "    }\n",
       "\n",
       "    .dataframe tbody tr th {\n",
       "        vertical-align: top;\n",
       "    }\n",
       "\n",
       "    .dataframe thead th {\n",
       "        text-align: right;\n",
       "    }\n",
       "</style>\n",
       "<table border=\"1\" class=\"dataframe\">\n",
       "  <thead>\n",
       "    <tr style=\"text-align: right;\">\n",
       "      <th></th>\n",
       "      <th>WL_home</th>\n",
       "      <th>avg_30_plus_minus_diff</th>\n",
       "    </tr>\n",
       "  </thead>\n",
       "  <tbody>\n",
       "    <tr>\n",
       "      <th>399</th>\n",
       "      <td>W</td>\n",
       "      <td>1.933333</td>\n",
       "    </tr>\n",
       "    <tr>\n",
       "      <th>400</th>\n",
       "      <td>L</td>\n",
       "      <td>-5.366667</td>\n",
       "    </tr>\n",
       "    <tr>\n",
       "      <th>401</th>\n",
       "      <td>L</td>\n",
       "      <td>-6.233333</td>\n",
       "    </tr>\n",
       "    <tr>\n",
       "      <th>402</th>\n",
       "      <td>W</td>\n",
       "      <td>-4.333333</td>\n",
       "    </tr>\n",
       "    <tr>\n",
       "      <th>403</th>\n",
       "      <td>L</td>\n",
       "      <td>-8.066667</td>\n",
       "    </tr>\n",
       "    <tr>\n",
       "      <th>...</th>\n",
       "      <td>...</td>\n",
       "      <td>...</td>\n",
       "    </tr>\n",
       "    <tr>\n",
       "      <th>4707</th>\n",
       "      <td>L</td>\n",
       "      <td>8.300000</td>\n",
       "    </tr>\n",
       "    <tr>\n",
       "      <th>4708</th>\n",
       "      <td>L</td>\n",
       "      <td>-2.333333</td>\n",
       "    </tr>\n",
       "    <tr>\n",
       "      <th>4709</th>\n",
       "      <td>L</td>\n",
       "      <td>-3.033333</td>\n",
       "    </tr>\n",
       "    <tr>\n",
       "      <th>4710</th>\n",
       "      <td>L</td>\n",
       "      <td>0.226667</td>\n",
       "    </tr>\n",
       "    <tr>\n",
       "      <th>4711</th>\n",
       "      <td>W</td>\n",
       "      <td>-2.166667</td>\n",
       "    </tr>\n",
       "  </tbody>\n",
       "</table>\n",
       "<p>4184 rows × 2 columns</p>\n",
       "</div>"
      ],
      "text/plain": [
       "     WL_home  avg_30_plus_minus_diff\n",
       "399        W                1.933333\n",
       "400        L               -5.366667\n",
       "401        L               -6.233333\n",
       "402        W               -4.333333\n",
       "403        L               -8.066667\n",
       "...      ...                     ...\n",
       "4707       L                8.300000\n",
       "4708       L               -2.333333\n",
       "4709       L               -3.033333\n",
       "4710       L                0.226667\n",
       "4711       W               -2.166667\n",
       "\n",
       "[4184 rows x 2 columns]"
      ]
     },
     "execution_count": 18,
     "metadata": {},
     "output_type": "execute_result"
    }
   ],
   "source": [
    "games_model"
   ]
  },
  {
   "cell_type": "code",
   "execution_count": 19,
   "metadata": {},
   "outputs": [],
   "source": [
    "games_model['WL_home'] = games_model['WL_home'].map({'W':1 , 'L':0})"
   ]
  },
  {
   "cell_type": "code",
   "execution_count": 20,
   "metadata": {},
   "outputs": [
    {
     "data": {
      "text/html": [
       "<div>\n",
       "<style scoped>\n",
       "    .dataframe tbody tr th:only-of-type {\n",
       "        vertical-align: middle;\n",
       "    }\n",
       "\n",
       "    .dataframe tbody tr th {\n",
       "        vertical-align: top;\n",
       "    }\n",
       "\n",
       "    .dataframe thead th {\n",
       "        text-align: right;\n",
       "    }\n",
       "</style>\n",
       "<table border=\"1\" class=\"dataframe\">\n",
       "  <thead>\n",
       "    <tr style=\"text-align: right;\">\n",
       "      <th></th>\n",
       "      <th>WL_home</th>\n",
       "      <th>avg_30_plus_minus_diff</th>\n",
       "    </tr>\n",
       "  </thead>\n",
       "  <tbody>\n",
       "    <tr>\n",
       "      <th>399</th>\n",
       "      <td>1</td>\n",
       "      <td>1.933333</td>\n",
       "    </tr>\n",
       "    <tr>\n",
       "      <th>400</th>\n",
       "      <td>0</td>\n",
       "      <td>-5.366667</td>\n",
       "    </tr>\n",
       "    <tr>\n",
       "      <th>401</th>\n",
       "      <td>0</td>\n",
       "      <td>-6.233333</td>\n",
       "    </tr>\n",
       "    <tr>\n",
       "      <th>402</th>\n",
       "      <td>1</td>\n",
       "      <td>-4.333333</td>\n",
       "    </tr>\n",
       "    <tr>\n",
       "      <th>403</th>\n",
       "      <td>0</td>\n",
       "      <td>-8.066667</td>\n",
       "    </tr>\n",
       "    <tr>\n",
       "      <th>...</th>\n",
       "      <td>...</td>\n",
       "      <td>...</td>\n",
       "    </tr>\n",
       "    <tr>\n",
       "      <th>4707</th>\n",
       "      <td>0</td>\n",
       "      <td>8.300000</td>\n",
       "    </tr>\n",
       "    <tr>\n",
       "      <th>4708</th>\n",
       "      <td>0</td>\n",
       "      <td>-2.333333</td>\n",
       "    </tr>\n",
       "    <tr>\n",
       "      <th>4709</th>\n",
       "      <td>0</td>\n",
       "      <td>-3.033333</td>\n",
       "    </tr>\n",
       "    <tr>\n",
       "      <th>4710</th>\n",
       "      <td>0</td>\n",
       "      <td>0.226667</td>\n",
       "    </tr>\n",
       "    <tr>\n",
       "      <th>4711</th>\n",
       "      <td>1</td>\n",
       "      <td>-2.166667</td>\n",
       "    </tr>\n",
       "  </tbody>\n",
       "</table>\n",
       "<p>4184 rows × 2 columns</p>\n",
       "</div>"
      ],
      "text/plain": [
       "      WL_home  avg_30_plus_minus_diff\n",
       "399         1                1.933333\n",
       "400         0               -5.366667\n",
       "401         0               -6.233333\n",
       "402         1               -4.333333\n",
       "403         0               -8.066667\n",
       "...       ...                     ...\n",
       "4707        0                8.300000\n",
       "4708        0               -2.333333\n",
       "4709        0               -3.033333\n",
       "4710        0                0.226667\n",
       "4711        1               -2.166667\n",
       "\n",
       "[4184 rows x 2 columns]"
      ]
     },
     "execution_count": 20,
     "metadata": {},
     "output_type": "execute_result"
    }
   ],
   "source": [
    "games_model"
   ]
  },
  {
   "cell_type": "code",
   "execution_count": 21,
   "metadata": {},
   "outputs": [],
   "source": [
    "df_train , df_test = train_test_split(games_model , stratify=games_model['WL_home'] , test_size=0.3 , random_state=7)"
   ]
  },
  {
   "cell_type": "code",
   "execution_count": 22,
   "metadata": {},
   "outputs": [
    {
     "data": {
      "text/plain": [
       "(2928, 2)"
      ]
     },
     "execution_count": 22,
     "metadata": {},
     "output_type": "execute_result"
    }
   ],
   "source": [
    "df_train.shape"
   ]
  },
  {
   "cell_type": "code",
   "execution_count": 23,
   "metadata": {},
   "outputs": [
    {
     "data": {
      "text/plain": [
       "(1256, 2)"
      ]
     },
     "execution_count": 23,
     "metadata": {},
     "output_type": "execute_result"
    }
   ],
   "source": [
    "df_test.shape"
   ]
  },
  {
   "cell_type": "code",
   "execution_count": 24,
   "metadata": {},
   "outputs": [],
   "source": [
    "target = 'WL_home'\n",
    "\n",
    "x_train  =df_train.drop(columns=target)\n",
    "y_train = df_train[target]\n",
    "\n",
    "x_test  =df_train.drop(columns=target)\n",
    "y_test = df_train[target]"
   ]
  },
  {
   "cell_type": "code",
   "execution_count": 25,
   "metadata": {},
   "outputs": [
    {
     "data": {
      "text/plain": [
       "1010    1\n",
       "2250    0\n",
       "1941    1\n",
       "1640    0\n",
       "1111    1\n",
       "       ..\n",
       "2538    1\n",
       "2488    1\n",
       "4158    0\n",
       "724     1\n",
       "1512    1\n",
       "Name: WL_home, Length: 2928, dtype: int64"
      ]
     },
     "execution_count": 25,
     "metadata": {},
     "output_type": "execute_result"
    }
   ],
   "source": [
    "y_test"
   ]
  },
  {
   "cell_type": "markdown",
   "metadata": {},
   "source": [
    "## XGBClassifier"
   ]
  },
  {
   "cell_type": "code",
   "execution_count": 26,
   "metadata": {},
   "outputs": [
    {
     "data": {
      "text/html": [
       "<style>#sk-container-id-1 {color: black;}#sk-container-id-1 pre{padding: 0;}#sk-container-id-1 div.sk-toggleable {background-color: white;}#sk-container-id-1 label.sk-toggleable__label {cursor: pointer;display: block;width: 100%;margin-bottom: 0;padding: 0.3em;box-sizing: border-box;text-align: center;}#sk-container-id-1 label.sk-toggleable__label-arrow:before {content: \"▸\";float: left;margin-right: 0.25em;color: #696969;}#sk-container-id-1 label.sk-toggleable__label-arrow:hover:before {color: black;}#sk-container-id-1 div.sk-estimator:hover label.sk-toggleable__label-arrow:before {color: black;}#sk-container-id-1 div.sk-toggleable__content {max-height: 0;max-width: 0;overflow: hidden;text-align: left;background-color: #f0f8ff;}#sk-container-id-1 div.sk-toggleable__content pre {margin: 0.2em;color: black;border-radius: 0.25em;background-color: #f0f8ff;}#sk-container-id-1 input.sk-toggleable__control:checked~div.sk-toggleable__content {max-height: 200px;max-width: 100%;overflow: auto;}#sk-container-id-1 input.sk-toggleable__control:checked~label.sk-toggleable__label-arrow:before {content: \"▾\";}#sk-container-id-1 div.sk-estimator input.sk-toggleable__control:checked~label.sk-toggleable__label {background-color: #d4ebff;}#sk-container-id-1 div.sk-label input.sk-toggleable__control:checked~label.sk-toggleable__label {background-color: #d4ebff;}#sk-container-id-1 input.sk-hidden--visually {border: 0;clip: rect(1px 1px 1px 1px);clip: rect(1px, 1px, 1px, 1px);height: 1px;margin: -1px;overflow: hidden;padding: 0;position: absolute;width: 1px;}#sk-container-id-1 div.sk-estimator {font-family: monospace;background-color: #f0f8ff;border: 1px dotted black;border-radius: 0.25em;box-sizing: border-box;margin-bottom: 0.5em;}#sk-container-id-1 div.sk-estimator:hover {background-color: #d4ebff;}#sk-container-id-1 div.sk-parallel-item::after {content: \"\";width: 100%;border-bottom: 1px solid gray;flex-grow: 1;}#sk-container-id-1 div.sk-label:hover label.sk-toggleable__label {background-color: #d4ebff;}#sk-container-id-1 div.sk-serial::before {content: \"\";position: absolute;border-left: 1px solid gray;box-sizing: border-box;top: 0;bottom: 0;left: 50%;z-index: 0;}#sk-container-id-1 div.sk-serial {display: flex;flex-direction: column;align-items: center;background-color: white;padding-right: 0.2em;padding-left: 0.2em;position: relative;}#sk-container-id-1 div.sk-item {position: relative;z-index: 1;}#sk-container-id-1 div.sk-parallel {display: flex;align-items: stretch;justify-content: center;background-color: white;position: relative;}#sk-container-id-1 div.sk-item::before, #sk-container-id-1 div.sk-parallel-item::before {content: \"\";position: absolute;border-left: 1px solid gray;box-sizing: border-box;top: 0;bottom: 0;left: 50%;z-index: -1;}#sk-container-id-1 div.sk-parallel-item {display: flex;flex-direction: column;z-index: 1;position: relative;background-color: white;}#sk-container-id-1 div.sk-parallel-item:first-child::after {align-self: flex-end;width: 50%;}#sk-container-id-1 div.sk-parallel-item:last-child::after {align-self: flex-start;width: 50%;}#sk-container-id-1 div.sk-parallel-item:only-child::after {width: 0;}#sk-container-id-1 div.sk-dashed-wrapped {border: 1px dashed gray;margin: 0 0.4em 0.5em 0.4em;box-sizing: border-box;padding-bottom: 0.4em;background-color: white;}#sk-container-id-1 div.sk-label label {font-family: monospace;font-weight: bold;display: inline-block;line-height: 1.2em;}#sk-container-id-1 div.sk-label-container {text-align: center;}#sk-container-id-1 div.sk-container {/* jupyter's `normalize.less` sets `[hidden] { display: none; }` but bootstrap.min.css set `[hidden] { display: none !important; }` so we also need the `!important` here to be able to override the default hidden behavior on the sphinx rendered scikit-learn.org. See: https://github.com/scikit-learn/scikit-learn/issues/21755 */display: inline-block !important;position: relative;}#sk-container-id-1 div.sk-text-repr-fallback {display: none;}</style><div id=\"sk-container-id-1\" class=\"sk-top-container\"><div class=\"sk-text-repr-fallback\"><pre>XGBClassifier(base_score=None, booster=None, callbacks=None,\n",
       "              colsample_bylevel=None, colsample_bynode=None,\n",
       "              colsample_bytree=None, device=None, early_stopping_rounds=None,\n",
       "              enable_categorical=False, eval_metric=None, feature_types=None,\n",
       "              gamma=None, grow_policy=None, importance_type=None,\n",
       "              interaction_constraints=None, learning_rate=None, max_bin=None,\n",
       "              max_cat_threshold=None, max_cat_to_onehot=None,\n",
       "              max_delta_step=None, max_depth=None, max_leaves=None,\n",
       "              min_child_weight=None, missing=nan, monotone_constraints=None,\n",
       "              multi_strategy=None, n_estimators=None, n_jobs=None,\n",
       "              num_parallel_tree=None, random_state=7, ...)</pre><b>In a Jupyter environment, please rerun this cell to show the HTML representation or trust the notebook. <br />On GitHub, the HTML representation is unable to render, please try loading this page with nbviewer.org.</b></div><div class=\"sk-container\" hidden><div class=\"sk-item\"><div class=\"sk-estimator sk-toggleable\"><input class=\"sk-toggleable__control sk-hidden--visually\" id=\"sk-estimator-id-1\" type=\"checkbox\" checked><label for=\"sk-estimator-id-1\" class=\"sk-toggleable__label sk-toggleable__label-arrow\">XGBClassifier</label><div class=\"sk-toggleable__content\"><pre>XGBClassifier(base_score=None, booster=None, callbacks=None,\n",
       "              colsample_bylevel=None, colsample_bynode=None,\n",
       "              colsample_bytree=None, device=None, early_stopping_rounds=None,\n",
       "              enable_categorical=False, eval_metric=None, feature_types=None,\n",
       "              gamma=None, grow_policy=None, importance_type=None,\n",
       "              interaction_constraints=None, learning_rate=None, max_bin=None,\n",
       "              max_cat_threshold=None, max_cat_to_onehot=None,\n",
       "              max_delta_step=None, max_depth=None, max_leaves=None,\n",
       "              min_child_weight=None, missing=nan, monotone_constraints=None,\n",
       "              multi_strategy=None, n_estimators=None, n_jobs=None,\n",
       "              num_parallel_tree=None, random_state=7, ...)</pre></div></div></div></div></div>"
      ],
      "text/plain": [
       "XGBClassifier(base_score=None, booster=None, callbacks=None,\n",
       "              colsample_bylevel=None, colsample_bynode=None,\n",
       "              colsample_bytree=None, device=None, early_stopping_rounds=None,\n",
       "              enable_categorical=False, eval_metric=None, feature_types=None,\n",
       "              gamma=None, grow_policy=None, importance_type=None,\n",
       "              interaction_constraints=None, learning_rate=None, max_bin=None,\n",
       "              max_cat_threshold=None, max_cat_to_onehot=None,\n",
       "              max_delta_step=None, max_depth=None, max_leaves=None,\n",
       "              min_child_weight=None, missing=nan, monotone_constraints=None,\n",
       "              multi_strategy=None, n_estimators=None, n_jobs=None,\n",
       "              num_parallel_tree=None, random_state=7, ...)"
      ]
     },
     "execution_count": 26,
     "metadata": {},
     "output_type": "execute_result"
    }
   ],
   "source": [
    "clf = xgb.XGBClassifier(random_state=7)\n",
    "clf.fit(x_train , y_train)"
   ]
  },
  {
   "cell_type": "code",
   "execution_count": 27,
   "metadata": {},
   "outputs": [],
   "source": [
    "y_pred = clf.predict(x_test)"
   ]
  },
  {
   "cell_type": "code",
   "execution_count": 28,
   "metadata": {},
   "outputs": [
    {
     "data": {
      "text/plain": [
       "0.6693989071038251"
      ]
     },
     "execution_count": 28,
     "metadata": {},
     "output_type": "execute_result"
    }
   ],
   "source": [
    "accuracy_score(y_test , y_pred)"
   ]
  },
  {
   "cell_type": "code",
   "execution_count": 30,
   "metadata": {},
   "outputs": [
    {
     "name": "stderr",
     "output_type": "stream",
     "text": [
      "/opt/homebrew/Caskroom/miniforge/base/lib/python3.10/site-packages/xgboost/core.py:160: UserWarning: [20:11:37] WARNING: /Users/runner/work/xgboost/xgboost/src/c_api/c_api.cc:1240: Saving into deprecated binary model format, please consider using `json` or `ubj`. Model format will default to JSON in XGBoost 2.2 if not specified.\n",
      "  warnings.warn(smsg, UserWarning)\n"
     ]
    }
   ],
   "source": [
    "clf.save_model('XGBClassifier.joblib')"
   ]
  },
  {
   "cell_type": "markdown",
   "metadata": {},
   "source": [
    "## LogisticRegression"
   ]
  },
  {
   "cell_type": "code",
   "execution_count": 45,
   "metadata": {},
   "outputs": [],
   "source": [
    "clf = LogisticRegression()\n",
    "clf.fit(x_train, y_train)"
   ]
  },
  {
   "cell_type": "code",
   "execution_count": 46,
   "metadata": {},
   "outputs": [],
   "source": [
    "y_pred = clf.predict(x_test)"
   ]
  },
  {
   "cell_type": "code",
   "execution_count": 47,
   "metadata": {},
   "outputs": [],
   "source": [
    "accuracy_score(y_test , y_pred)"
   ]
  },
  {
   "cell_type": "code",
   "execution_count": null,
   "metadata": {},
   "outputs": [],
   "source": [
    "clf.save_model('LogisticRegression.joblib')"
   ]
  },
  {
   "cell_type": "markdown",
   "metadata": {},
   "source": [
    "## SVC"
   ]
  },
  {
   "cell_type": "code",
   "execution_count": 48,
   "metadata": {},
   "outputs": [
    {
     "data": {
      "text/html": [
       "<style>#sk-container-id-1 {color: black;}#sk-container-id-1 pre{padding: 0;}#sk-container-id-1 div.sk-toggleable {background-color: white;}#sk-container-id-1 label.sk-toggleable__label {cursor: pointer;display: block;width: 100%;margin-bottom: 0;padding: 0.3em;box-sizing: border-box;text-align: center;}#sk-container-id-1 label.sk-toggleable__label-arrow:before {content: \"▸\";float: left;margin-right: 0.25em;color: #696969;}#sk-container-id-1 label.sk-toggleable__label-arrow:hover:before {color: black;}#sk-container-id-1 div.sk-estimator:hover label.sk-toggleable__label-arrow:before {color: black;}#sk-container-id-1 div.sk-toggleable__content {max-height: 0;max-width: 0;overflow: hidden;text-align: left;background-color: #f0f8ff;}#sk-container-id-1 div.sk-toggleable__content pre {margin: 0.2em;color: black;border-radius: 0.25em;background-color: #f0f8ff;}#sk-container-id-1 input.sk-toggleable__control:checked~div.sk-toggleable__content {max-height: 200px;max-width: 100%;overflow: auto;}#sk-container-id-1 input.sk-toggleable__control:checked~label.sk-toggleable__label-arrow:before {content: \"▾\";}#sk-container-id-1 div.sk-estimator input.sk-toggleable__control:checked~label.sk-toggleable__label {background-color: #d4ebff;}#sk-container-id-1 div.sk-label input.sk-toggleable__control:checked~label.sk-toggleable__label {background-color: #d4ebff;}#sk-container-id-1 input.sk-hidden--visually {border: 0;clip: rect(1px 1px 1px 1px);clip: rect(1px, 1px, 1px, 1px);height: 1px;margin: -1px;overflow: hidden;padding: 0;position: absolute;width: 1px;}#sk-container-id-1 div.sk-estimator {font-family: monospace;background-color: #f0f8ff;border: 1px dotted black;border-radius: 0.25em;box-sizing: border-box;margin-bottom: 0.5em;}#sk-container-id-1 div.sk-estimator:hover {background-color: #d4ebff;}#sk-container-id-1 div.sk-parallel-item::after {content: \"\";width: 100%;border-bottom: 1px solid gray;flex-grow: 1;}#sk-container-id-1 div.sk-label:hover label.sk-toggleable__label {background-color: #d4ebff;}#sk-container-id-1 div.sk-serial::before {content: \"\";position: absolute;border-left: 1px solid gray;box-sizing: border-box;top: 0;bottom: 0;left: 50%;z-index: 0;}#sk-container-id-1 div.sk-serial {display: flex;flex-direction: column;align-items: center;background-color: white;padding-right: 0.2em;padding-left: 0.2em;position: relative;}#sk-container-id-1 div.sk-item {position: relative;z-index: 1;}#sk-container-id-1 div.sk-parallel {display: flex;align-items: stretch;justify-content: center;background-color: white;position: relative;}#sk-container-id-1 div.sk-item::before, #sk-container-id-1 div.sk-parallel-item::before {content: \"\";position: absolute;border-left: 1px solid gray;box-sizing: border-box;top: 0;bottom: 0;left: 50%;z-index: -1;}#sk-container-id-1 div.sk-parallel-item {display: flex;flex-direction: column;z-index: 1;position: relative;background-color: white;}#sk-container-id-1 div.sk-parallel-item:first-child::after {align-self: flex-end;width: 50%;}#sk-container-id-1 div.sk-parallel-item:last-child::after {align-self: flex-start;width: 50%;}#sk-container-id-1 div.sk-parallel-item:only-child::after {width: 0;}#sk-container-id-1 div.sk-dashed-wrapped {border: 1px dashed gray;margin: 0 0.4em 0.5em 0.4em;box-sizing: border-box;padding-bottom: 0.4em;background-color: white;}#sk-container-id-1 div.sk-label label {font-family: monospace;font-weight: bold;display: inline-block;line-height: 1.2em;}#sk-container-id-1 div.sk-label-container {text-align: center;}#sk-container-id-1 div.sk-container {/* jupyter's `normalize.less` sets `[hidden] { display: none; }` but bootstrap.min.css set `[hidden] { display: none !important; }` so we also need the `!important` here to be able to override the default hidden behavior on the sphinx rendered scikit-learn.org. See: https://github.com/scikit-learn/scikit-learn/issues/21755 */display: inline-block !important;position: relative;}#sk-container-id-1 div.sk-text-repr-fallback {display: none;}</style><div id=\"sk-container-id-1\" class=\"sk-top-container\"><div class=\"sk-text-repr-fallback\"><pre>SVC(probability=True)</pre><b>In a Jupyter environment, please rerun this cell to show the HTML representation or trust the notebook. <br />On GitHub, the HTML representation is unable to render, please try loading this page with nbviewer.org.</b></div><div class=\"sk-container\" hidden><div class=\"sk-item\"><div class=\"sk-estimator sk-toggleable\"><input class=\"sk-toggleable__control sk-hidden--visually\" id=\"sk-estimator-id-1\" type=\"checkbox\" checked><label for=\"sk-estimator-id-1\" class=\"sk-toggleable__label sk-toggleable__label-arrow\">SVC</label><div class=\"sk-toggleable__content\"><pre>SVC(probability=True)</pre></div></div></div></div></div>"
      ],
      "text/plain": [
       "SVC(probability=True)"
      ]
     },
     "execution_count": 48,
     "metadata": {},
     "output_type": "execute_result"
    }
   ],
   "source": [
    "clf = SVC(probability=True)\n",
    "clf.fit(x_train, y_train)"
   ]
  },
  {
   "cell_type": "code",
   "execution_count": 49,
   "metadata": {},
   "outputs": [],
   "source": [
    "y_pred = clf.predict(x_test)"
   ]
  },
  {
   "cell_type": "code",
   "execution_count": 50,
   "metadata": {},
   "outputs": [
    {
     "data": {
      "text/plain": [
       "0.6308060109289617"
      ]
     },
     "execution_count": 50,
     "metadata": {},
     "output_type": "execute_result"
    }
   ],
   "source": [
    "accuracy_score(y_test , y_pred)"
   ]
  },
  {
   "cell_type": "code",
   "execution_count": null,
   "metadata": {},
   "outputs": [],
   "source": [
    "clf.save_model('SVC.joblib')"
   ]
  },
  {
   "cell_type": "markdown",
   "metadata": {},
   "source": [
    "## RandomForestClassifier"
   ]
  },
  {
   "cell_type": "code",
   "execution_count": 153,
   "metadata": {},
   "outputs": [
    {
     "data": {
      "text/html": [
       "<style>#sk-container-id-13 {color: black;}#sk-container-id-13 pre{padding: 0;}#sk-container-id-13 div.sk-toggleable {background-color: white;}#sk-container-id-13 label.sk-toggleable__label {cursor: pointer;display: block;width: 100%;margin-bottom: 0;padding: 0.3em;box-sizing: border-box;text-align: center;}#sk-container-id-13 label.sk-toggleable__label-arrow:before {content: \"▸\";float: left;margin-right: 0.25em;color: #696969;}#sk-container-id-13 label.sk-toggleable__label-arrow:hover:before {color: black;}#sk-container-id-13 div.sk-estimator:hover label.sk-toggleable__label-arrow:before {color: black;}#sk-container-id-13 div.sk-toggleable__content {max-height: 0;max-width: 0;overflow: hidden;text-align: left;background-color: #f0f8ff;}#sk-container-id-13 div.sk-toggleable__content pre {margin: 0.2em;color: black;border-radius: 0.25em;background-color: #f0f8ff;}#sk-container-id-13 input.sk-toggleable__control:checked~div.sk-toggleable__content {max-height: 200px;max-width: 100%;overflow: auto;}#sk-container-id-13 input.sk-toggleable__control:checked~label.sk-toggleable__label-arrow:before {content: \"▾\";}#sk-container-id-13 div.sk-estimator input.sk-toggleable__control:checked~label.sk-toggleable__label {background-color: #d4ebff;}#sk-container-id-13 div.sk-label input.sk-toggleable__control:checked~label.sk-toggleable__label {background-color: #d4ebff;}#sk-container-id-13 input.sk-hidden--visually {border: 0;clip: rect(1px 1px 1px 1px);clip: rect(1px, 1px, 1px, 1px);height: 1px;margin: -1px;overflow: hidden;padding: 0;position: absolute;width: 1px;}#sk-container-id-13 div.sk-estimator {font-family: monospace;background-color: #f0f8ff;border: 1px dotted black;border-radius: 0.25em;box-sizing: border-box;margin-bottom: 0.5em;}#sk-container-id-13 div.sk-estimator:hover {background-color: #d4ebff;}#sk-container-id-13 div.sk-parallel-item::after {content: \"\";width: 100%;border-bottom: 1px solid gray;flex-grow: 1;}#sk-container-id-13 div.sk-label:hover label.sk-toggleable__label {background-color: #d4ebff;}#sk-container-id-13 div.sk-serial::before {content: \"\";position: absolute;border-left: 1px solid gray;box-sizing: border-box;top: 0;bottom: 0;left: 50%;z-index: 0;}#sk-container-id-13 div.sk-serial {display: flex;flex-direction: column;align-items: center;background-color: white;padding-right: 0.2em;padding-left: 0.2em;position: relative;}#sk-container-id-13 div.sk-item {position: relative;z-index: 1;}#sk-container-id-13 div.sk-parallel {display: flex;align-items: stretch;justify-content: center;background-color: white;position: relative;}#sk-container-id-13 div.sk-item::before, #sk-container-id-13 div.sk-parallel-item::before {content: \"\";position: absolute;border-left: 1px solid gray;box-sizing: border-box;top: 0;bottom: 0;left: 50%;z-index: -1;}#sk-container-id-13 div.sk-parallel-item {display: flex;flex-direction: column;z-index: 1;position: relative;background-color: white;}#sk-container-id-13 div.sk-parallel-item:first-child::after {align-self: flex-end;width: 50%;}#sk-container-id-13 div.sk-parallel-item:last-child::after {align-self: flex-start;width: 50%;}#sk-container-id-13 div.sk-parallel-item:only-child::after {width: 0;}#sk-container-id-13 div.sk-dashed-wrapped {border: 1px dashed gray;margin: 0 0.4em 0.5em 0.4em;box-sizing: border-box;padding-bottom: 0.4em;background-color: white;}#sk-container-id-13 div.sk-label label {font-family: monospace;font-weight: bold;display: inline-block;line-height: 1.2em;}#sk-container-id-13 div.sk-label-container {text-align: center;}#sk-container-id-13 div.sk-container {/* jupyter's `normalize.less` sets `[hidden] { display: none; }` but bootstrap.min.css set `[hidden] { display: none !important; }` so we also need the `!important` here to be able to override the default hidden behavior on the sphinx rendered scikit-learn.org. See: https://github.com/scikit-learn/scikit-learn/issues/21755 */display: inline-block !important;position: relative;}#sk-container-id-13 div.sk-text-repr-fallback {display: none;}</style><div id=\"sk-container-id-13\" class=\"sk-top-container\"><div class=\"sk-text-repr-fallback\"><pre>RandomForestClassifier()</pre><b>In a Jupyter environment, please rerun this cell to show the HTML representation or trust the notebook. <br />On GitHub, the HTML representation is unable to render, please try loading this page with nbviewer.org.</b></div><div class=\"sk-container\" hidden><div class=\"sk-item\"><div class=\"sk-estimator sk-toggleable\"><input class=\"sk-toggleable__control sk-hidden--visually\" id=\"sk-estimator-id-13\" type=\"checkbox\" checked><label for=\"sk-estimator-id-13\" class=\"sk-toggleable__label sk-toggleable__label-arrow\">RandomForestClassifier</label><div class=\"sk-toggleable__content\"><pre>RandomForestClassifier()</pre></div></div></div></div></div>"
      ],
      "text/plain": [
       "RandomForestClassifier()"
      ]
     },
     "execution_count": 153,
     "metadata": {},
     "output_type": "execute_result"
    }
   ],
   "source": [
    "clf = RandomForestClassifier()\n",
    "clf.fit(x_train, y_train)"
   ]
  },
  {
   "cell_type": "code",
   "execution_count": 154,
   "metadata": {},
   "outputs": [],
   "source": [
    "y_pred = clf.predict(x_test)"
   ]
  },
  {
   "cell_type": "code",
   "execution_count": 155,
   "metadata": {},
   "outputs": [
    {
     "data": {
      "text/plain": [
       "0.7937158469945356"
      ]
     },
     "execution_count": 155,
     "metadata": {},
     "output_type": "execute_result"
    }
   ],
   "source": [
    "accuracy_score(y_test , y_pred)"
   ]
  },
  {
   "cell_type": "code",
   "execution_count": null,
   "metadata": {},
   "outputs": [],
   "source": [
    "clf.save_model('RandomForestClassifier.joblib')"
   ]
  },
  {
   "attachments": {},
   "cell_type": "markdown",
   "metadata": {},
   "source": [
    "# Deploy the Model"
   ]
  },
  {
   "cell_type": "code",
   "execution_count": 51,
   "metadata": {},
   "outputs": [
    {
     "data": {
      "text/plain": [
       "['model_nba.joblib']"
      ]
     },
     "execution_count": 51,
     "metadata": {},
     "output_type": "execute_result"
    }
   ],
   "source": [
    "from joblib import dump , load\n",
    "dump(clf , 'model_nba.joblib')"
   ]
  },
  {
   "cell_type": "code",
   "execution_count": 52,
   "metadata": {},
   "outputs": [],
   "source": [
    "model_saved = load('model_nba.joblib')"
   ]
  },
  {
   "cell_type": "code",
   "execution_count": 53,
   "metadata": {},
   "outputs": [
    {
     "data": {
      "text/plain": [
       "0.6308060109289617"
      ]
     },
     "execution_count": 53,
     "metadata": {},
     "output_type": "execute_result"
    }
   ],
   "source": [
    "accuracy_score(y_test , model_saved.predict(x_test))"
   ]
  },
  {
   "cell_type": "code",
   "execution_count": 41,
   "metadata": {},
   "outputs": [],
   "source": [
    "import numpy as np\n",
    "def predict_games(team_home, team_away):\n",
    "    gamefinder = leaguegamefinder.LeagueGameFinder(\n",
    "        date_from_nullable='01/01/2021',\n",
    "        league_id_nullable='00')\n",
    "    games = gamefinder.get_data_frames()[0]\n",
    "    games = games[['TEAM_NAME', 'GAME_ID', 'GAME_DATE', 'MATCHUP', 'WL', 'PLUS_MINUS']]\n",
    "    games['GAME_DATE'] = pd.to_datetime(games['GAME_DATE'])\n",
    "\n",
    "    msk_home = (games['TEAM_NAME'] == team_home)\n",
    "    games_30_home = games[msk_home].sort_values('GAME_DATE').tail(30)\n",
    "    home_plus_minus = games_30_home['PLUS_MINUS'].mean()\n",
    "\n",
    "    msk_away = (games['TEAM_NAME'] == team_away)\n",
    "    games_30_away = games[msk_away].sort_values('GAME_DATE').tail(30)\n",
    "    away_plus_minus = games_30_away['PLUS_MINUS'].mean()\n",
    "\n",
    "    games_diff = home_plus_minus - away_plus_minus\n",
    "\n",
    "    predict_home_win = model_saved.predict(np.array([games_diff]))[0]\n",
    "    predict_winning_probability = model_saved.predict_proba(np.array([games_diff]))[0][1]\n",
    "    return predict_home_win, predict_winning_probability"
   ]
  },
  {
   "cell_type": "code",
   "execution_count": 42,
   "metadata": {},
   "outputs": [
    {
     "data": {
      "text/plain": [
       "(1, 0.91441864)"
      ]
     },
     "execution_count": 42,
     "metadata": {},
     "output_type": "execute_result"
    }
   ],
   "source": [
    "predict_games('Boston Celtics','San Antonio Spurs')"
   ]
  },
  {
   "cell_type": "code",
   "execution_count": 43,
   "metadata": {},
   "outputs": [
    {
     "data": {
      "text/plain": [
       "(0, 0.36161807)"
      ]
     },
     "execution_count": 43,
     "metadata": {},
     "output_type": "execute_result"
    }
   ],
   "source": [
    "predict_games('San Antonio Spurs', 'Boston Celtics')"
   ]
  },
  {
   "cell_type": "code",
   "execution_count": 44,
   "metadata": {},
   "outputs": [
    {
     "data": {
      "text/plain": [
       "(0, 0.23543288)"
      ]
     },
     "execution_count": 44,
     "metadata": {},
     "output_type": "execute_result"
    }
   ],
   "source": [
    "predict_games('San Antonio Spurs', 'Dallas Mavericks')"
   ]
  },
  {
   "cell_type": "code",
   "execution_count": 45,
   "metadata": {},
   "outputs": [
    {
     "data": {
      "text/plain": [
       "(0, 0.36161807)"
      ]
     },
     "execution_count": 45,
     "metadata": {},
     "output_type": "execute_result"
    }
   ],
   "source": [
    "predict_games('San Antonio Spurs', 'Boston Celtics')"
   ]
  },
  {
   "cell_type": "code",
   "execution_count": 46,
   "metadata": {},
   "outputs": [
    {
     "data": {
      "text/plain": [
       "(1, 0.5104026)"
      ]
     },
     "execution_count": 46,
     "metadata": {},
     "output_type": "execute_result"
    }
   ],
   "source": [
    "predict_games('Dallas Mavericks', 'Boston Celtics')"
   ]
  },
  {
   "cell_type": "code",
   "execution_count": 47,
   "metadata": {},
   "outputs": [
    {
     "data": {
      "text/plain": [
       "(1, 0.6563108)"
      ]
     },
     "execution_count": 47,
     "metadata": {},
     "output_type": "execute_result"
    }
   ],
   "source": [
    "predict_games(\"Chicago Bulls\", \"Memphis Grizzlies\")"
   ]
  },
  {
   "cell_type": "code",
   "execution_count": 48,
   "metadata": {},
   "outputs": [
    {
     "data": {
      "text/plain": [
       "(1, 0.5569656)"
      ]
     },
     "execution_count": 48,
     "metadata": {},
     "output_type": "execute_result"
    }
   ],
   "source": [
    "predict_games(\"Minnesota Timberwolves\", \"Memphis Grizzlies\")"
   ]
  },
  {
   "cell_type": "code",
   "execution_count": null,
   "metadata": {},
   "outputs": [],
   "source": []
  },
  {
   "cell_type": "code",
   "execution_count": null,
   "metadata": {},
   "outputs": [],
   "source": []
  }
 ],
 "metadata": {
  "kernelspec": {
   "display_name": "Python 3 (ipykernel)",
   "language": "python",
   "name": "python3"
  },
  "language_info": {
   "codemirror_mode": {
    "name": "ipython",
    "version": 3
   },
   "file_extension": ".py",
   "mimetype": "text/x-python",
   "name": "python",
   "nbconvert_exporter": "python",
   "pygments_lexer": "ipython3",
   "version": "3.10.6"
  }
 },
 "nbformat": 4,
 "nbformat_minor": 4
}
